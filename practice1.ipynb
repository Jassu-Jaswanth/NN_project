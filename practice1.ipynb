{
 "cells": [
  {
   "cell_type": "code",
   "execution_count": 1,
   "id": "11945c0e",
   "metadata": {},
   "outputs": [],
   "source": [
    "import numpy as np\n",
    "dat = np.array([[56,1,4],[35,42,3],[1,56,34]])"
   ]
  },
  {
   "cell_type": "code",
   "execution_count": 2,
   "id": "d3e22277",
   "metadata": {},
   "outputs": [],
   "source": [
    "sum_dat = dat.sum(axis=0)"
   ]
  },
  {
   "cell_type": "code",
   "execution_count": 3,
   "id": "64be5cb8",
   "metadata": {},
   "outputs": [
    {
     "name": "stdout",
     "output_type": "stream",
     "text": [
      "[92 99 41]\n"
     ]
    }
   ],
   "source": [
    "print(sum_dat)"
   ]
  },
  {
   "cell_type": "code",
   "execution_count": 4,
   "id": "3a4564a0",
   "metadata": {},
   "outputs": [
    {
     "name": "stdout",
     "output_type": "stream",
     "text": [
      "[[60.86956522  1.01010101  9.75609756]\n",
      " [38.04347826 42.42424242  7.31707317]\n",
      " [ 1.08695652 56.56565657 82.92682927]]\n"
     ]
    }
   ],
   "source": [
    "percentage = 100 * dat/sum_dat\n",
    "print(percentage)"
   ]
  },
  {
   "cell_type": "markdown",
   "id": "63790e08",
   "metadata": {},
   "source": [
    "BroadCasting in a different way"
   ]
  },
  {
   "cell_type": "code",
   "execution_count": 5,
   "id": "de4be4c0",
   "metadata": {},
   "outputs": [],
   "source": [
    "a = np.array([1,2,3])\n",
    "b = np.array([[1],[2],[3]])"
   ]
  },
  {
   "cell_type": "code",
   "execution_count": 6,
   "id": "a467be31",
   "metadata": {},
   "outputs": [
    {
     "name": "stdout",
     "output_type": "stream",
     "text": [
      "[[2 3 4]\n",
      " [3 4 5]\n",
      " [4 5 6]]\n"
     ]
    }
   ],
   "source": [
    "c = a + b\n",
    "print(c)"
   ]
  },
  {
   "cell_type": "markdown",
   "id": "6802195f",
   "metadata": {},
   "source": [
    "This should have thrown an error but due to numpy arrays broadcasting properties the both matrces expanded and added.\n",
    "Keep this in mind to not to run into errors."
   ]
  },
  {
   "cell_type": "code",
   "execution_count": 9,
   "id": "b042b0cf",
   "metadata": {},
   "outputs": [
    {
     "name": "stdout",
     "output_type": "stream",
     "text": [
      "[[1]]\n",
      "2\n"
     ]
    }
   ],
   "source": [
    "a = [[1]]\n",
    "b = np.array(a)\n",
    "print(b)\n",
    "c = int(b) * 2\n",
    "print(c)"
   ]
  },
  {
   "cell_type": "code",
   "execution_count": null,
   "id": "805ce72f",
   "metadata": {},
   "outputs": [],
   "source": []
  }
 ],
 "metadata": {
  "kernelspec": {
   "display_name": "Python 3 (ipykernel)",
   "language": "python",
   "name": "python3"
  },
  "language_info": {
   "codemirror_mode": {
    "name": "ipython",
    "version": 3
   },
   "file_extension": ".py",
   "mimetype": "text/x-python",
   "name": "python",
   "nbconvert_exporter": "python",
   "pygments_lexer": "ipython3",
   "version": "3.9.12"
  }
 },
 "nbformat": 4,
 "nbformat_minor": 5
}
